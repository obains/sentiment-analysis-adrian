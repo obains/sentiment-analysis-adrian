{
 "cells": [
  {
   "cell_type": "markdown",
   "metadata": {},
   "source": [
    "# Scraping Twitter to provide data for sentiment analysis\n",
    "\n",
    "\n",
    "\n",
    "We are looking at Adrian (Liverpool's Goalkeeper) in the UCL Round of 16 second leg tie"
   ]
  },
  {
   "cell_type": "code",
   "execution_count": 4,
   "metadata": {},
   "outputs": [],
   "source": [
    "import tweepy\n",
    "consumer_key = \"87Yf2zW8zHyVXBb9DBgmLx7HJ\"\n",
    "consumer_secret = \"iozteaIAuq8CyBnDhytIPdVQiKdKIjOKd8QPRAheswJB0q2ZKZ\"\n",
    "access_token = \"270489379-7TQsLd9rGNU41EKq0v4SxH4z8XGpsxC37fdMhIZF\"\n",
    "access_token_secret = \"BIpKD9GKulrsh89rCmkIjQRFHGwnS0loiRaN1vh5V9BfX\"\n",
    "auth = tweepy.OAuthHandler(consumer_key, consumer_secret)\n",
    "auth.set_access_token(access_token, access_token_secret)\n",
    "api = tweepy.API(auth)"
   ]
  },
  {
   "cell_type": "markdown",
   "metadata": {},
   "source": [
    "## Create a database and export all results there"
   ]
  },
  {
   "cell_type": "code",
   "execution_count": 27,
   "metadata": {},
   "outputs": [],
   "source": [
    "import sqlite3\n",
    "conn = sqlite3.connect('tweetsall.db')\n",
    "c = conn.cursor()"
   ]
  },
  {
   "cell_type": "code",
   "execution_count": 42,
   "metadata": {},
   "outputs": [],
   "source": [
    "import time \n",
    "\n",
    "# searching for tweets with adrian & UCL\n",
    "c.execute('''CREATE TABLE adrian_ucl (tid, date, text)''')\n",
    "\n",
    "t = tweepy.Cursor(api.search,q=\"adrian ucl\",count=100000,\n",
    "                           lang=\"en\",\n",
    "                           since=\"2020-03-11\", tweet_mode=\"extended\").items()\n",
    "while True: \n",
    "    try:\n",
    "        tweet = t.next()\n",
    "        date = str(tweet.created_at)\n",
    "        text = str(tweet.full_text)\n",
    "        tid = str(tweet.id)\n",
    "        params = (tid, date, text)\n",
    "        c.execute(\"INSERT INTO adrian_ucl VALUES (?, ?, ?)\", params)\n",
    "        conn.commit()\n",
    "    except tweepy.TweepError:\n",
    "        time.sleep(60 * 15)\n",
    "        continue\n",
    "    except StopIteration:\n",
    "        break"
   ]
  },
  {
   "cell_type": "code",
   "execution_count": 47,
   "metadata": {},
   "outputs": [],
   "source": [
    "# searching for tweets with adrian & liverpool\n",
    "\n",
    "c.execute('''CREATE TABLE adrian_liverpool (tid, date, text)''')\n",
    "\n",
    "t = tweepy.Cursor(api.search,q=\"adrian liverpool\",count=100000,\n",
    "                           lang=\"en\",\n",
    "                           since=\"2020-03-11\", tweet_mode=\"extended\").items()\n",
    "while True: \n",
    "    try:\n",
    "        tweet = t.next()\n",
    "        date = str(tweet.created_at)\n",
    "        text = str(tweet.full_text)\n",
    "        tid = str(tweet.id)\n",
    "        params = (tid, date, text)\n",
    "        c.execute(\"INSERT INTO adrian_liverpool VALUES (?, ?, ?)\", params)\n",
    "        conn.commit()\n",
    "    except tweepy.TweepError:\n",
    "        time.sleep(60 * 15)\n",
    "        continue\n",
    "    except StopIteration:\n",
    "        break"
   ]
  },
  {
   "cell_type": "code",
   "execution_count": 45,
   "metadata": {},
   "outputs": [],
   "source": [
    "# searching for tweets with adrian & madrid\n",
    "\n",
    "c.execute('''CREATE TABLE adrian_madrid (tid, date, text)''')\n",
    "\n",
    "t = tweepy.Cursor(api.search,q=\"adrian madrid\",count=100000,\n",
    "                           lang=\"en\",\n",
    "                           since=\"2020-03-11\", tweet_mode=\"extended\").items()\n",
    "while True: \n",
    "    try:\n",
    "        tweet = t.next()\n",
    "        date = str(tweet.created_at)\n",
    "        text = str(tweet.full_text)\n",
    "        tid = str(tweet.id)\n",
    "        params = (tid, date, text)\n",
    "        c.execute(\"INSERT INTO adrian_madrid VALUES (?, ?, ?)\", params)\n",
    "        conn.commit()\n",
    "    except tweepy.TweepError:\n",
    "        time.sleep(60 * 15)\n",
    "        continue\n",
    "    except StopIteration:\n",
    "        break"
   ]
  },
  {
   "cell_type": "code",
   "execution_count": 46,
   "metadata": {},
   "outputs": [],
   "source": [
    "# searching for tweets with adrian & goal\n",
    "\n",
    "c.execute('''CREATE TABLE adrian_goal (tid, date, text)''')\n",
    "\n",
    "t = tweepy.Cursor(api.search,q=\"adrian goal\",count=100000,\n",
    "                           lang=\"en\",\n",
    "                           since=\"2020-03-11\", tweet_mode=\"extended\").items()\n",
    "while True: \n",
    "    try:\n",
    "        tweet = t.next()\n",
    "        date = str(tweet.created_at)\n",
    "        text = str(tweet.full_text)\n",
    "        tid = str(tweet.id)\n",
    "        params = (tid, date, text)\n",
    "        c.execute(\"INSERT INTO adrian_goal VALUES (?, ?, ?)\", params)\n",
    "        conn.commit()\n",
    "    except tweepy.TweepError:\n",
    "        time.sleep(60 * 15)\n",
    "        continue\n",
    "    except StopIteration:\n",
    "        break"
   ]
  },
  {
   "cell_type": "code",
   "execution_count": 48,
   "metadata": {},
   "outputs": [],
   "source": [
    "conn.close()"
   ]
  },
  {
   "cell_type": "markdown",
   "metadata": {},
   "source": [
    "This provided over 40000 results!\n",
    "Analysis and cleaning of data happens under the Sentiment Analysis directory."
   ]
  }
 ],
 "metadata": {
  "kernelspec": {
   "display_name": "Python 3",
   "language": "python",
   "name": "python3"
  },
  "language_info": {
   "codemirror_mode": {
    "name": "ipython",
    "version": 3
   },
   "file_extension": ".py",
   "mimetype": "text/x-python",
   "name": "python",
   "nbconvert_exporter": "python",
   "pygments_lexer": "ipython3",
   "version": "3.7.5"
  }
 },
 "nbformat": 4,
 "nbformat_minor": 2
}
